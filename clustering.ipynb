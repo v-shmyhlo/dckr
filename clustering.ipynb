{
 "cells": [
  {
   "cell_type": "code",
   "execution_count": 12,
   "metadata": {},
   "outputs": [],
   "source": [
    "import pickle\n",
    "from sklearn.cluster import DBSCAN, AgglomerativeClustering, KMeans\n",
    "from sklearn.manifold import TSNE\n",
    "import matplotlib.pyplot as plt\n",
    "from sklearn.metrics import silhouette_score\n",
    "import matplotlib\n",
    "from hyperopt import fmin, hp, tpe\n",
    "from sklearn.decomposition import PCA\n",
    "import numpy as np\n",
    "\n",
    "%matplotlib inline\n",
    "matplotlib.rcParams['figure.figsize'] = (8, 8)"
   ]
  },
  {
   "cell_type": "code",
   "execution_count": 13,
   "metadata": {},
   "outputs": [],
   "source": [
    "with open('./data/output.pickle', 'rb') as f:\n",
    "    data = pickle.load(f)\n",
    "    data['vectors'] /= data['vectors'].std(0)"
   ]
  },
  {
   "cell_type": "code",
   "execution_count": null,
   "metadata": {},
   "outputs": [
    {
     "name": "stdout",
     "output_type": "stream",
     "text": [
      "[t-SNE] Computing 91 nearest neighbors...\n",
      "[t-SNE] Indexed 1159 samples in 0.003s...\n",
      "[t-SNE] Computed neighbors for 1159 samples in 0.116s...\n",
      "[t-SNE] Computed conditional probabilities for sample 1000 / 1159\n",
      "[t-SNE] Computed conditional probabilities for sample 1159 / 1159\n",
      "[t-SNE] Mean sigma: 2.366187\n",
      "[t-SNE] KL divergence after 250 iterations with early exaggeration: 69.929993\n"
     ]
    }
   ],
   "source": [
    "tsne = TSNE(n_components=2, verbose=True)\n",
    "vectors_tsne = tsne.fit_transform(data['vectors'])\n",
    "plt.scatter(vectors_tsne[:, 0], vectors_tsne[:, 1], s=5)\n",
    "plt.show()"
   ]
  },
  {
   "cell_type": "code",
   "execution_count": null,
   "metadata": {},
   "outputs": [],
   "source": [
    "pca = PCA(n_components=2)\n",
    "vectors_pca = pca.fit_transform(data['vectors'])\n",
    "plt.scatter(vectors_pca[:, 0], vectors_pca[:, 1], s=5)\n",
    "plt.show()"
   ]
  },
  {
   "cell_type": "code",
   "execution_count": null,
   "metadata": {},
   "outputs": [],
   "source": [
    "def objective(hparams):\n",
    "    klass, kwargs = hparams\n",
    "    if 'n_clusters' in kwargs:\n",
    "        kwargs['n_clusters'] = int(kwargs['n_clusters'])\n",
    "        \n",
    "    model = klass(**kwargs)\n",
    "    cluster_ids = model.fit_predict(data['vectors'])\n",
    "    \n",
    "    if len(set(cluster_ids)) > 1:\n",
    "        score = silhouette_score(data['vectors'], cluster_ids)\n",
    "    else:\n",
    "        score = -1\n",
    "    \n",
    "    return -score\n",
    "    \n",
    "hparams_space = hp.choice('method', [\n",
    "#     (KMeans, {\n",
    "#         'n_clusters': hp.quniform('kmeans_n_clusters', 2, 32, 1),\n",
    "#     }),\n",
    "    (DBSCAN, {\n",
    "        'min_samples': hp.quniform('min_samples', 2, 32, 1),\n",
    "        'eps': hp.loguniform('eps', np.log(0.01), np.log(32))\n",
    "    }),\n",
    "    (AgglomerativeClustering, {\n",
    "        'affinity': hp.choice('affinity', ['euclidean', 'l1', 'l2', 'manhattan', 'cosine']),\n",
    "        'n_clusters': hp.quniform('agglo_n_clusters', 2, 32, 1),\n",
    "        'linkage': hp.choice('linkage', ['complete', 'average'])\n",
    "    })\n",
    "])\n",
    "\n",
    "hparams = fmin(objective, space=hparams_space, algo=tpe.suggest, max_evals=500, verbose=True)\n",
    "print(hparams)"
   ]
  },
  {
   "cell_type": "code",
   "execution_count": null,
   "metadata": {},
   "outputs": [],
   "source": [
    "model = DBSCAN(min_samples=3, eps=0.01)\n",
    "# model = KMeans(n_clusters=10)\n",
    "cluster_ids = model.fit_predict(data['vectors'])\n",
    "print(silhouette_score(data['vectors'], cluster_ids))\n",
    "print(set(cluster_ids))"
   ]
  },
  {
   "cell_type": "code",
   "execution_count": null,
   "metadata": {},
   "outputs": [],
   "source": [
    "plt.scatter(vectors_pca[:, 0], vectors_pca[:, 1], c=cluster_ids, s=5)\n",
    "plt.show()\n",
    "plt.scatter(vectors_tsne[:, 0], vectors_tsne[:, 1], c=cluster_ids, s=5)\n",
    "plt.show()"
   ]
  },
  {
   "cell_type": "code",
   "execution_count": null,
   "metadata": {},
   "outputs": [],
   "source": [
    "def tile_images(images, n):\n",
    "    for i in range(n):\n",
    "        for j in range(n):\n",
    "            plt.subplot(n,n, i * n + j + 1)\n",
    "            plt.imshow(images[i * n + j].sum(-1))\n",
    "            plt.axis('off')\n",
    "            \n",
    "n = 4\n",
    "for c in set(cluster_ids):\n",
    "    images = data['images'][cluster_ids == c]\n",
    "    if images.shape[0] >= n**2:\n",
    "        tile_images(images, n)\n",
    "        plt.suptitle('cluster {}'.format(c))\n",
    "        plt.show()"
   ]
  },
  {
   "cell_type": "code",
   "execution_count": null,
   "metadata": {},
   "outputs": [],
   "source": []
  }
 ],
 "metadata": {
  "kernelspec": {
   "display_name": "Python 3",
   "language": "python",
   "name": "python3"
  },
  "language_info": {
   "codemirror_mode": {
    "name": "ipython",
    "version": 3
   },
   "file_extension": ".py",
   "mimetype": "text/x-python",
   "name": "python",
   "nbconvert_exporter": "python",
   "pygments_lexer": "ipython3",
   "version": "3.6.4"
  }
 },
 "nbformat": 4,
 "nbformat_minor": 2
}
